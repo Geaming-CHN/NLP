{
 "cells": [
  {
   "cell_type": "code",
   "execution_count": 5,
   "metadata": {},
   "outputs": [
    {
     "name": "stdout",
     "output_type": "stream",
     "text": [
      "(1, 4)\n",
      "tf.Tensor([[ 0.03265109 -0.13498011  0.04214708  0.10107909]], shape=(1, 4), dtype=float32)\n",
      "(1, 2, 4)\n",
      "tf.Tensor([[ 0.09205206  0.03978624 -0.00702111 -0.06888393]], shape=(1, 4), dtype=float32)\n",
      "tf.Tensor([[ 0.17958067  0.09192587 -0.0256143  -0.14782065]], shape=(1, 4), dtype=float32)\n"
     ]
    }
   ],
   "source": [
    "import tensorflow as tf\n",
    "inputs = tf.random.normal([1, 2, 3])\n",
    "lstm = tf.keras.layers.LSTM(4)\n",
    "output = lstm(inputs)\n",
    "print(output.shape)\n",
    "print(output)\n",
    "lstm = tf.keras.layers.LSTM(4, return_sequences=True, return_state=True)\n",
    "whole_seq_output, final_memory_state, final_carry_state = lstm(inputs)\n",
    "print(whole_seq_output.shape)\n",
    "\n",
    "print(final_memory_state)\n",
    "\n",
    "print(final_carry_state)\n"
   ]
  }
 ],
 "metadata": {
  "kernelspec": {
   "display_name": "Python 3.7.5 ('tf')",
   "language": "python",
   "name": "python3"
  },
  "language_info": {
   "codemirror_mode": {
    "name": "ipython",
    "version": 3
   },
   "file_extension": ".py",
   "mimetype": "text/x-python",
   "name": "python",
   "nbconvert_exporter": "python",
   "pygments_lexer": "ipython3",
   "version": "3.7.5"
  },
  "orig_nbformat": 4,
  "vscode": {
   "interpreter": {
    "hash": "51a272811b0571923bf2d77daa8ff520cc1868d3ddada5cf849f84d1c97129e4"
   }
  }
 },
 "nbformat": 4,
 "nbformat_minor": 2
}
