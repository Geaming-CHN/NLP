{
 "cells": [
  {
   "cell_type": "markdown",
   "metadata": {},
   "source": [
    "# 基于深度学习的文本分类\n",
    "\n",
    "使用基于mindspore框架的自然语言处理库mindnlp\n",
    "\n",
    "主仓库地址：https://github.com/mindspore-lab/mindnlp"
   ]
  },
  {
   "cell_type": "markdown",
   "metadata": {},
   "source": [
    "# 构造数据集\n",
    "\n",
    "根据所提供的news20数据集，"
   ]
  },
  {
   "cell_type": "code",
   "execution_count": 1,
   "metadata": {},
   "outputs": [],
   "source": [
    "\"\"\"\n",
    "news20 load function\n",
    "\"\"\"\n",
    "import os\n",
    "import mindspore\n",
    "from tqdm import tqdm\n",
    "from mindspore.dataset import GeneratorDataset\n",
    "\n",
    "mindspore.set_context(device_target=\"GPU\") # set GPU\n",
    "\n",
    "label_dict = {}\n",
    "label_count = 0\n",
    "\n",
    "class News20:\n",
    "    \"\"\"\n",
    "    NEWS dataset source\n",
    "    \"\"\"\n",
    "\n",
    "    def __init__(self, path)->None:\n",
    "        self.path: str = path\n",
    "        self._text, self._label = [], []\n",
    "        self.label_dict = {}\n",
    "        self.label_count = 0\n",
    "        self._load()\n",
    "\n",
    "    def _load(self):\n",
    "        labels = os.listdir(self.path)\n",
    "        for label in labels:\n",
    "            self.label_dict[label] = self.label_count\n",
    "            self.label_count += 1\n",
    "            label_path = os.path.join(self.path, label)\n",
    "            with tqdm(total = len(os.listdir(label_path)), desc = label) as pbar:\n",
    "                for t in os.listdir(label_path):\n",
    "                    pbar.update(1)\n",
    "                    text_path = os.path.join(label_path, t)\n",
    "                    file = open(text_path, \"r\" ,encoding=\"latin-1\") # latin-1\n",
    "                    text = file.read().strip()\n",
    "                    begin = text.find('\\n\\n')\n",
    "                    if 0 < begin: # skip head\n",
    "                        text = text[begin:]\n",
    "                    self._text.append(text)\n",
    "                    self._label.append(self.label_dict[label])\n",
    "\n",
    "    def __getitem__(self, index):\n",
    "        return self._text[index], self._label[index]\n",
    "\n",
    "    def __len__(self):\n",
    "        return len(self._label)\n",
    "\n",
    "def news20(source:News20):\n",
    "    r\"\"\"\n",
    "    Load the news20 dataset\n",
    "    \"\"\"\n",
    "    column_names = [\"text\", \"label\"]\n",
    "    return GeneratorDataset(source = source, column_names = column_names, shuffle = False) # 不shuffle，划分数据集时会进行打乱\n"
   ]
  },
  {
   "cell_type": "code",
   "execution_count": 2,
   "metadata": {},
   "outputs": [
    {
     "name": "stderr",
     "output_type": "stream",
     "text": [
      "sci.electronics: 100%|██████████| 1000/1000 [00:02<00:00, 480.48it/s]\n",
      "misc.forsale: 100%|██████████| 1000/1000 [00:01<00:00, 553.81it/s]\n",
      "rec.sport.hockey: 100%|██████████| 1000/1000 [00:01<00:00, 502.76it/s]\n",
      "rec.autos: 100%|██████████| 1000/1000 [00:02<00:00, 492.54it/s]\n",
      "alt.atheism: 100%|██████████| 1000/1000 [00:02<00:00, 465.95it/s]\n",
      "comp.sys.mac.hardware: 100%|██████████| 1000/1000 [00:01<00:00, 507.54it/s]\n",
      "talk.politics.mideast: 100%|██████████| 1000/1000 [00:01<00:00, 513.09it/s]\n",
      "sci.med: 100%|██████████| 1000/1000 [00:01<00:00, 556.65it/s]\n",
      "rec.motorcycles: 100%|██████████| 1000/1000 [00:02<00:00, 428.16it/s]\n",
      "soc.religion.christian: 100%|██████████| 997/997 [00:01<00:00, 546.28it/s]\n",
      "talk.politics.guns: 100%|██████████| 1000/1000 [00:02<00:00, 447.40it/s]\n",
      "sci.crypt: 100%|██████████| 1000/1000 [00:02<00:00, 493.32it/s]\n",
      "rec.sport.baseball: 100%|██████████| 1000/1000 [00:01<00:00, 516.73it/s]\n",
      "comp.windows.x: 100%|██████████| 1000/1000 [00:01<00:00, 546.93it/s]\n",
      "talk.religion.misc: 100%|██████████| 1000/1000 [00:01<00:00, 528.88it/s]\n",
      "sci.space: 100%|██████████| 1000/1000 [00:02<00:00, 474.64it/s]\n",
      "comp.os.ms-windows.misc: 100%|██████████| 1000/1000 [00:01<00:00, 508.78it/s]\n",
      "comp.graphics: 100%|██████████| 1000/1000 [00:01<00:00, 504.26it/s]\n",
      "talk.politics.misc: 100%|██████████| 1000/1000 [00:01<00:00, 548.19it/s]\n",
      "comp.sys.ibm.pc.hardware: 100%|██████████| 1000/1000 [00:01<00:00, 507.03it/s]"
     ]
    },
    {
     "name": "stdout",
     "output_type": "stream",
     "text": [
      "{'sci.electronics': 0, 'misc.forsale': 1, 'rec.sport.hockey': 2, 'rec.autos': 3, 'alt.atheism': 4, 'comp.sys.mac.hardware': 5, 'talk.politics.mideast': 6, 'sci.med': 7, 'rec.motorcycles': 8, 'soc.religion.christian': 9, 'talk.politics.guns': 10, 'sci.crypt': 11, 'rec.sport.baseball': 12, 'comp.windows.x': 13, 'talk.religion.misc': 14, 'sci.space': 15, 'comp.os.ms-windows.misc': 16, 'comp.graphics': 17, 'talk.politics.misc': 18, 'comp.sys.ibm.pc.hardware': 19}\n"
     ]
    },
    {
     "name": "stderr",
     "output_type": "stream",
     "text": [
      "\n"
     ]
    }
   ],
   "source": [
    "# 载入数据\n",
    "dataset_source = News20(r\"/run/determined/workdir/qishunheng/lijiaming/nlp_ex/dataset/20_newsgroup\")\n",
    "print(dataset_source.label_dict)\n",
    "dataset = news20(dataset_source)"
   ]
  },
  {
   "cell_type": "code",
   "execution_count": 3,
   "metadata": {},
   "outputs": [],
   "source": [
    "# define Models & Loss & Optimizer\n",
    "hidden_size = 256\n",
    "output_size = 20\n",
    "num_layers = 2\n",
    "bidirectional = False\n",
    "drop = 0.5\n",
    "lr = 0.001"
   ]
  },
  {
   "cell_type": "code",
   "execution_count": 4,
   "metadata": {},
   "outputs": [],
   "source": [
    "# 数据预处理\n",
    "import mindspore\n",
    "from mindspore.dataset import text, transforms\n",
    "from mindnlp.modules import Glove\n",
    "from mindnlp.dataset.transforms import BasicTokenizer\n",
    "from mindnlp.dataset import process\n",
    "\n",
    "def data_process(dataset, tokenizer, vocab, batch_size = 64, max_len = 2000, drop_remainder = False):\n",
    "    \"\"\"\n",
    "    预处理\n",
    "    \"\"\"\n",
    "    # print(\"!!!!!!!!!!!!!!!!!!!!!!!\")\n",
    "    dataset = dataset.map([tokenizer], 'text')\n",
    "    lookup_op = text.Lookup(vocab, unknown_token = '<unk>')\n",
    "    dataset = dataset.map([lookup_op], 'text')\n",
    "    pad_value = vocab.tokens_to_ids('<pad>')\n",
    "    pad_op = transforms.PadEnd([max_len], pad_value)\n",
    "    dataset = dataset.map([pad_op], 'text')\n",
    "    onehot_op = transforms.OneHot(num_classes=20)\n",
    "    dataset = dataset.map([onehot_op], 'label')\n",
    "    type_cast_op = transforms.TypeCast(mindspore.float32)\n",
    "    dataset = dataset.map([type_cast_op], 'label')\n",
    "\n",
    "    dataset = dataset.batch(batch_size, drop_remainder = drop_remainder)\n",
    "    return dataset\n",
    "\n",
    "tokenizer = BasicTokenizer(True)\n",
    "embedding, vocab = Glove.from_pretrained('6B', 100, special_tokens=[\"<unk>\", \"<pad>\"], dropout=drop, root = r\"/run/determined/workdir/qishunheng/lijiaming\")\n",
    "\n",
    "dataset_process = data_process(dataset, tokenizer, vocab) # 其余使用默认参数"
   ]
  },
  {
   "cell_type": "code",
   "execution_count": 5,
   "metadata": {},
   "outputs": [],
   "source": [
    "# 划分数据集\n",
    "train_dataset, test_dataset = dataset_process.split([0.8, 0.2])"
   ]
  },
  {
   "cell_type": "code",
   "execution_count": 32,
   "metadata": {},
   "outputs": [],
   "source": [
    "# 构建网络\n",
    "import math\n",
    "\n",
    "from mindspore import nn\n",
    "from mindspore import ops\n",
    "from mindspore.common.initializer import Uniform, HeUniform\n",
    "from mindnlp.abc import Seq2vecModel\n",
    "\n",
    "# class Head(nn.Cell):\n",
    "#     \"\"\"\n",
    "#     Head for Classification model\n",
    "#     \"\"\"\n",
    "#     def __init__(self, hidden_dim, output_dim, dropout):\n",
    "#         super().__init__()\n",
    "#         weight_init = HeUniform(math.sqrt(5))\n",
    "#         bias_init = Uniform(10 / math.sqrt(hidden_dim * 2))\n",
    "#         self.fc = nn.Dense(hidden_dim * 2, output_dim, weight_init=weight_init, bias_init=bias_init)\n",
    "#         self.softmax = nn.Softmax()\n",
    "#         self.dropout = nn.Dropout(1 - dropout)\n",
    "\n",
    "#     def construct(self, context):\n",
    "#         context = ops.concat((context[-2, :, :], context[-1, :, :]), axis=1)\n",
    "#         context = self.dropout(context)\n",
    "#         return self.softmax(self.fc(context))\n",
    "\n",
    "\n",
    "# class Classification(Seq2vecModel):\n",
    "#     \"\"\"\n",
    "#     Classification model\n",
    "#     \"\"\"\n",
    "#     def __init__(self, encoder, head):\n",
    "#         super().__init__(encoder, head)\n",
    "#         self.encoder = encoder\n",
    "#         self.head = head\n",
    "\n",
    "#     def construct(self, text):\n",
    "#         _, (hidden, _), _ = self.encoder(text)\n",
    "#         output = self.head(hidden)\n",
    "#         return output\n",
    "from mindspore.ops import operations as P\n",
    "class Classification(nn.Cell):\n",
    "    def __init__(self) -> None:\n",
    "        super(Classification, self).__init__()\n",
    "        self.embedding = embedding\n",
    "        self.lstm = nn.LSTM(100, hidden_size, num_layers=num_layers, batch_first=True, dropout=drop)\n",
    "        self.dense1 = nn.Dense(hidden_size, 64)\n",
    "        self.relu = nn.ReLU()\n",
    "        self.dense2 = nn.Dense(64, 20)\n",
    "        self.softmax = nn.Softmax()\n",
    "        self.dropout = nn.Dropout(0.2)\n",
    "    def construct(self, text):\n",
    "        text = self.embedding(text) # 64,2000,100\n",
    "        print(text.shape)\n",
    "        text, _ =self.lstm(text) # 64,256\n",
    "        print(text.shape)\n",
    "        text = self.dense1(text) # 64,64\n",
    "        print(text.shape)\n",
    "        text = self.relu(text) # 64,64\n",
    "        print(text.shape)\n",
    "        text = self.dropout(text) # 64,64\n",
    "        print(text.shape)\n",
    "        text = self.dense2(text) # 64,20\n",
    "        print(text.shape)\n",
    "        text = self.softmax(text) # 64,20\n",
    "        print(text.shape)\n",
    "        return text\n"
   ]
  },
  {
   "cell_type": "code",
   "execution_count": 33,
   "metadata": {},
   "outputs": [
    {
     "name": "stdout",
     "output_type": "stream",
     "text": [
      "(64, 2000)\n",
      "(64, 2000, 100)\n",
      "(64, 2000, 256)\n",
      "(64, 2000, 64)\n",
      "(64, 2000, 64)\n",
      "(64, 2000, 64)\n",
      "(64, 2000, 20)\n",
      "(64, 2000, 20)\n",
      "(64, 2000, 20)\n"
     ]
    }
   ],
   "source": [
    "t = Classification()\n",
    "d = next(train_dataset.create_dict_iterator())\n",
    "l = d['label']\n",
    "d = d['text']\n",
    "print(d.shape)\n",
    "d = t.construct(d)\n",
    "print(d.shape)"
   ]
  },
  {
   "cell_type": "code",
   "execution_count": 34,
   "metadata": {},
   "outputs": [
    {
     "name": "stdout",
     "output_type": "stream",
     "text": [
      "(64, 20)\n",
      "(64, 2000, 20)\n"
     ]
    }
   ],
   "source": [
    "print(l.shape)\n",
    "print(d.shape)"
   ]
  },
  {
   "cell_type": "code",
   "execution_count": 35,
   "metadata": {},
   "outputs": [
    {
     "name": "stderr",
     "output_type": "stream",
     "text": [
      "Epoch 0:   0%|          | 0/250 [00:00<?, ?it/s][WARNING] ME(82727:140409401530176,MainProcess):2022-12-17-03:26:46.689.893 [mindspore/ops/primitive.py:710] The \"_check_is_tensor\" is a constexpr function. The input arguments must be all constant value.\n",
      "[ERROR] ANALYZER(82727,7fb39c805740,python):2022-12-17-03:26:46.807.736 [mindspore/ccsrc/pipeline/jit/static_analysis/async_eval_result.cc:66] HandleException] Exception happened, check the information as below.\n",
      "\n",
      "The function call stack (See file '/run/determined/workdir/qishunheng/lijiaming/nlp_ex/rank_0/om/analyze_fail.dat' for more details. Get instructions about `analyze_fail.dat` at https://www.mindspore.cn/search?inputValue=analyze_fail.dat):\n",
      "# 0 In file /run/determined/workdir/qishunheng/lijiaming/nlp_ex/mindnlp/engine/trainer.py:188\n",
      "            (loss, _), grads = grad_fn(inputs, labels)\n",
      "                               ^\n",
      "# 1 In file /opt/conda/envs/mindspore_gpu/lib/python3.7/site-packages/mindspore/ops/composite/base.py:557\n",
      "                        return grad_(fn_, weights)(*args, **kwargs)\n",
      "                               ^\n",
      "# 2 In file /opt/conda/envs/mindspore_gpu/lib/python3.7/site-packages/mindspore/ops/composite/base.py:501\n",
      "            outputs = fn(*args)\n",
      "                      ^\n",
      "# 3 In file /run/determined/workdir/qishunheng/lijiaming/nlp_ex/mindnlp/engine/trainer.py:166\n",
      "            loss = loss_fn(*logits_list, *labels)\n",
      "                   ^\n",
      "# 4 In file /opt/conda/envs/mindspore_gpu/lib/python3.7/site-packages/mindspore/nn/loss/loss.py:2082\n",
      "        _check_cross_entropy_inputs(logits.shape, labels.shape, \\\n",
      "        ^\n",
      "\n",
      "Epoch 0:   0%|          | 0/250 [00:03<?, ?it/s]\n"
     ]
    },
    {
     "ename": "TypeError",
     "evalue": "For 'CrossEntropyLoss', the 'labels' should be Int32, but got 'mindspore.float32'.",
     "output_type": "error",
     "traceback": [
      "\u001b[0;31m---------------------------------------------------------------------------\u001b[0m",
      "\u001b[0;31mTypeError\u001b[0m                                 Traceback (most recent call last)",
      "\u001b[0;32m/tmp/ipykernel_82727/1245313201.py\u001b[0m in \u001b[0;36m<module>\u001b[0;34m\u001b[0m\n\u001b[1;32m     19\u001b[0m trainer = Trainer(network=net, train_dataset = train_dataset, eval_dataset = test_dataset, metrics=metric,\n\u001b[1;32m     20\u001b[0m                   epochs=5, loss_fn=loss, optimizer=optimizer)\n\u001b[0;32m---> 21\u001b[0;31m \u001b[0mtrainer\u001b[0m\u001b[0;34m.\u001b[0m\u001b[0mrun\u001b[0m\u001b[0;34m(\u001b[0m\u001b[0mtgt_columns\u001b[0m\u001b[0;34m=\u001b[0m\u001b[0;34m\"label\"\u001b[0m\u001b[0;34m,\u001b[0m \u001b[0mjit\u001b[0m\u001b[0;34m=\u001b[0m\u001b[0;32mTrue\u001b[0m\u001b[0;34m)\u001b[0m\u001b[0;34m\u001b[0m\u001b[0;34m\u001b[0m\u001b[0m\n\u001b[0m\u001b[1;32m     22\u001b[0m \u001b[0mprint\u001b[0m\u001b[0;34m(\u001b[0m\u001b[0;34m\"end train\"\u001b[0m\u001b[0;34m)\u001b[0m\u001b[0;34m\u001b[0m\u001b[0;34m\u001b[0m\u001b[0m\n",
      "\u001b[0;32m/run/determined/workdir/qishunheng/lijiaming/nlp_ex/mindnlp/engine/trainer.py\u001b[0m in \u001b[0;36mrun\u001b[0;34m(self, tgt_columns, jit)\u001b[0m\n\u001b[1;32m    144\u001b[0m         \u001b[0mrun_context\u001b[0m \u001b[0;34m=\u001b[0m \u001b[0mRunContext\u001b[0m\u001b[0;34m(\u001b[0m\u001b[0margs_dict\u001b[0m\u001b[0;34m)\u001b[0m\u001b[0;34m\u001b[0m\u001b[0;34m\u001b[0m\u001b[0m\n\u001b[1;32m    145\u001b[0m         \u001b[0mself\u001b[0m\u001b[0;34m.\u001b[0m\u001b[0mcallback_manager\u001b[0m\u001b[0;34m.\u001b[0m\u001b[0mtrain_begin\u001b[0m\u001b[0;34m(\u001b[0m\u001b[0mrun_context\u001b[0m\u001b[0;34m)\u001b[0m\u001b[0;34m\u001b[0m\u001b[0;34m\u001b[0m\u001b[0m\n\u001b[0;32m--> 146\u001b[0;31m         \u001b[0mself\u001b[0m\u001b[0;34m.\u001b[0m\u001b[0m_run\u001b[0m\u001b[0;34m(\u001b[0m\u001b[0mrun_context\u001b[0m\u001b[0;34m,\u001b[0m \u001b[0mtgt_columns\u001b[0m\u001b[0;34m,\u001b[0m \u001b[0mjit\u001b[0m\u001b[0;34m)\u001b[0m\u001b[0;34m\u001b[0m\u001b[0;34m\u001b[0m\u001b[0m\n\u001b[0m\u001b[1;32m    147\u001b[0m         \u001b[0mself\u001b[0m\u001b[0;34m.\u001b[0m\u001b[0mcallback_manager\u001b[0m\u001b[0;34m.\u001b[0m\u001b[0mtrain_end\u001b[0m\u001b[0;34m(\u001b[0m\u001b[0mrun_context\u001b[0m\u001b[0;34m)\u001b[0m\u001b[0;34m\u001b[0m\u001b[0;34m\u001b[0m\u001b[0m\n\u001b[1;32m    148\u001b[0m \u001b[0;34m\u001b[0m\u001b[0m\n",
      "\u001b[0;32m/run/determined/workdir/qishunheng/lijiaming/nlp_ex/mindnlp/engine/trainer.py\u001b[0m in \u001b[0;36m_run\u001b[0;34m(self, run_context, tgt_columns, jit)\u001b[0m\n\u001b[1;32m    211\u001b[0m                     \u001b[0mself\u001b[0m\u001b[0;34m.\u001b[0m\u001b[0mcallback_manager\u001b[0m\u001b[0;34m.\u001b[0m\u001b[0mtrain_step_begin\u001b[0m\u001b[0;34m(\u001b[0m\u001b[0mrun_context\u001b[0m\u001b[0;34m)\u001b[0m\u001b[0;34m\u001b[0m\u001b[0;34m\u001b[0m\u001b[0m\n\u001b[1;32m    212\u001b[0m                     \u001b[0;32mif\u001b[0m \u001b[0mjit\u001b[0m\u001b[0;34m:\u001b[0m\u001b[0;34m\u001b[0m\u001b[0;34m\u001b[0m\u001b[0m\n\u001b[0;32m--> 213\u001b[0;31m                         \u001b[0mloss\u001b[0m \u001b[0;34m=\u001b[0m \u001b[0m_run_step_graph\u001b[0m\u001b[0;34m(\u001b[0m\u001b[0minputs\u001b[0m\u001b[0;34m,\u001b[0m \u001b[0mtgts\u001b[0m\u001b[0;34m)\u001b[0m\u001b[0;34m\u001b[0m\u001b[0;34m\u001b[0m\u001b[0m\n\u001b[0m\u001b[1;32m    214\u001b[0m                     \u001b[0;32melse\u001b[0m\u001b[0;34m:\u001b[0m\u001b[0;34m\u001b[0m\u001b[0;34m\u001b[0m\u001b[0m\n\u001b[1;32m    215\u001b[0m                         \u001b[0mloss\u001b[0m \u001b[0;34m=\u001b[0m \u001b[0m_run_step\u001b[0m\u001b[0;34m(\u001b[0m\u001b[0minputs\u001b[0m\u001b[0;34m,\u001b[0m \u001b[0mtgts\u001b[0m\u001b[0;34m)\u001b[0m\u001b[0;34m\u001b[0m\u001b[0;34m\u001b[0m\u001b[0m\n",
      "\u001b[0;32m/opt/conda/envs/mindspore_gpu/lib/python3.7/site-packages/mindspore/common/api.py\u001b[0m in \u001b[0;36mstaging_specialize\u001b[0;34m(*args, **kwargs)\u001b[0m\n\u001b[1;32m    592\u001b[0m                 \u001b[0mprocess_obj\u001b[0m \u001b[0;34m=\u001b[0m \u001b[0margs\u001b[0m\u001b[0;34m[\u001b[0m\u001b[0;36m0\u001b[0m\u001b[0;34m]\u001b[0m\u001b[0;34m\u001b[0m\u001b[0;34m\u001b[0m\u001b[0m\n\u001b[1;32m    593\u001b[0m                 \u001b[0margs\u001b[0m \u001b[0;34m=\u001b[0m \u001b[0margs\u001b[0m\u001b[0;34m[\u001b[0m\u001b[0;36m1\u001b[0m\u001b[0;34m:\u001b[0m\u001b[0;34m]\u001b[0m\u001b[0;34m\u001b[0m\u001b[0;34m\u001b[0m\u001b[0m\n\u001b[0;32m--> 594\u001b[0;31m             \u001b[0mout\u001b[0m \u001b[0;34m=\u001b[0m \u001b[0m_MindsporeFunctionExecutor\u001b[0m\u001b[0;34m(\u001b[0m\u001b[0mfunc\u001b[0m\u001b[0;34m,\u001b[0m \u001b[0mhash_obj\u001b[0m\u001b[0;34m,\u001b[0m \u001b[0minput_signature\u001b[0m\u001b[0;34m,\u001b[0m \u001b[0mprocess_obj\u001b[0m\u001b[0;34m,\u001b[0m \u001b[0mjit_config\u001b[0m\u001b[0;34m)\u001b[0m\u001b[0;34m(\u001b[0m\u001b[0;34m*\u001b[0m\u001b[0margs\u001b[0m\u001b[0;34m)\u001b[0m\u001b[0;34m\u001b[0m\u001b[0;34m\u001b[0m\u001b[0m\n\u001b[0m\u001b[1;32m    595\u001b[0m             \u001b[0;32mreturn\u001b[0m \u001b[0mout\u001b[0m\u001b[0;34m\u001b[0m\u001b[0;34m\u001b[0m\u001b[0m\n\u001b[1;32m    596\u001b[0m \u001b[0;34m\u001b[0m\u001b[0m\n",
      "\u001b[0;32m/opt/conda/envs/mindspore_gpu/lib/python3.7/site-packages/mindspore/common/api.py\u001b[0m in \u001b[0;36mwrapper\u001b[0;34m(*arg, **kwargs)\u001b[0m\n\u001b[1;32m     96\u001b[0m     \u001b[0;34m@\u001b[0m\u001b[0mwraps\u001b[0m\u001b[0;34m(\u001b[0m\u001b[0mfn\u001b[0m\u001b[0;34m)\u001b[0m\u001b[0;34m\u001b[0m\u001b[0;34m\u001b[0m\u001b[0m\n\u001b[1;32m     97\u001b[0m     \u001b[0;32mdef\u001b[0m \u001b[0mwrapper\u001b[0m\u001b[0;34m(\u001b[0m\u001b[0;34m*\u001b[0m\u001b[0marg\u001b[0m\u001b[0;34m,\u001b[0m \u001b[0;34m**\u001b[0m\u001b[0mkwargs\u001b[0m\u001b[0;34m)\u001b[0m\u001b[0;34m:\u001b[0m\u001b[0;34m\u001b[0m\u001b[0;34m\u001b[0m\u001b[0m\n\u001b[0;32m---> 98\u001b[0;31m         \u001b[0mresults\u001b[0m \u001b[0;34m=\u001b[0m \u001b[0mfn\u001b[0m\u001b[0;34m(\u001b[0m\u001b[0;34m*\u001b[0m\u001b[0marg\u001b[0m\u001b[0;34m,\u001b[0m \u001b[0;34m**\u001b[0m\u001b[0mkwargs\u001b[0m\u001b[0;34m)\u001b[0m\u001b[0;34m\u001b[0m\u001b[0;34m\u001b[0m\u001b[0m\n\u001b[0m\u001b[1;32m     99\u001b[0m         \u001b[0;32mreturn\u001b[0m \u001b[0m_convert_python_data\u001b[0m\u001b[0;34m(\u001b[0m\u001b[0mresults\u001b[0m\u001b[0;34m)\u001b[0m\u001b[0;34m\u001b[0m\u001b[0;34m\u001b[0m\u001b[0m\n\u001b[1;32m    100\u001b[0m \u001b[0;34m\u001b[0m\u001b[0m\n",
      "\u001b[0;32m/opt/conda/envs/mindspore_gpu/lib/python3.7/site-packages/mindspore/common/api.py\u001b[0m in \u001b[0;36m__call__\u001b[0;34m(self, *args)\u001b[0m\n\u001b[1;32m    403\u001b[0m             \u001b[0margs_list\u001b[0m \u001b[0;34m=\u001b[0m \u001b[0margs_list\u001b[0m\u001b[0;34m[\u001b[0m\u001b[0;36m1\u001b[0m\u001b[0;34m:\u001b[0m\u001b[0;34m]\u001b[0m\u001b[0;34m\u001b[0m\u001b[0;34m\u001b[0m\u001b[0m\n\u001b[1;32m    404\u001b[0m \u001b[0;34m\u001b[0m\u001b[0m\n\u001b[0;32m--> 405\u001b[0;31m         \u001b[0mphase\u001b[0m \u001b[0;34m=\u001b[0m \u001b[0mself\u001b[0m\u001b[0;34m.\u001b[0m\u001b[0mcompile\u001b[0m\u001b[0;34m(\u001b[0m\u001b[0margs_list\u001b[0m\u001b[0;34m,\u001b[0m \u001b[0mself\u001b[0m\u001b[0;34m.\u001b[0m\u001b[0mfn\u001b[0m\u001b[0;34m.\u001b[0m\u001b[0m__name__\u001b[0m\u001b[0;34m)\u001b[0m\u001b[0;34m\u001b[0m\u001b[0;34m\u001b[0m\u001b[0m\n\u001b[0m\u001b[1;32m    406\u001b[0m         \u001b[0;32mif\u001b[0m \u001b[0mcontext\u001b[0m\u001b[0;34m.\u001b[0m\u001b[0mget_context\u001b[0m\u001b[0;34m(\u001b[0m\u001b[0;34m\"precompile_only\"\u001b[0m\u001b[0;34m)\u001b[0m\u001b[0;34m:\u001b[0m\u001b[0;34m\u001b[0m\u001b[0;34m\u001b[0m\u001b[0m\n\u001b[1;32m    407\u001b[0m             \u001b[0;32mreturn\u001b[0m \u001b[0;32mNone\u001b[0m\u001b[0;34m\u001b[0m\u001b[0;34m\u001b[0m\u001b[0m\n",
      "\u001b[0;32m/opt/conda/envs/mindspore_gpu/lib/python3.7/site-packages/mindspore/common/api.py\u001b[0m in \u001b[0;36mcompile\u001b[0;34m(self, args_list, method_name)\u001b[0m\n\u001b[1;32m    377\u001b[0m \u001b[0;34m\u001b[0m\u001b[0m\n\u001b[1;32m    378\u001b[0m         \u001b[0;32mif\u001b[0m \u001b[0mself\u001b[0m\u001b[0;34m.\u001b[0m\u001b[0mobj\u001b[0m \u001b[0;32mis\u001b[0m \u001b[0;32mNone\u001b[0m\u001b[0;34m:\u001b[0m\u001b[0;34m\u001b[0m\u001b[0;34m\u001b[0m\u001b[0m\n\u001b[0;32m--> 379\u001b[0;31m             \u001b[0mis_compile\u001b[0m \u001b[0;34m=\u001b[0m \u001b[0mself\u001b[0m\u001b[0;34m.\u001b[0m\u001b[0m_graph_executor\u001b[0m\u001b[0;34m.\u001b[0m\u001b[0mcompile\u001b[0m\u001b[0;34m(\u001b[0m\u001b[0mself\u001b[0m\u001b[0;34m.\u001b[0m\u001b[0mfn\u001b[0m\u001b[0;34m,\u001b[0m \u001b[0mcompile_args\u001b[0m\u001b[0;34m,\u001b[0m \u001b[0mphase\u001b[0m\u001b[0;34m,\u001b[0m \u001b[0;32mTrue\u001b[0m\u001b[0;34m)\u001b[0m\u001b[0;34m\u001b[0m\u001b[0;34m\u001b[0m\u001b[0m\n\u001b[0m\u001b[1;32m    380\u001b[0m         \u001b[0;32melse\u001b[0m\u001b[0;34m:\u001b[0m\u001b[0;34m\u001b[0m\u001b[0;34m\u001b[0m\u001b[0m\n\u001b[1;32m    381\u001b[0m             \u001b[0;32mif\u001b[0m \u001b[0misinstance\u001b[0m\u001b[0;34m(\u001b[0m\u001b[0mself\u001b[0m\u001b[0;34m.\u001b[0m\u001b[0mobj\u001b[0m\u001b[0;34m,\u001b[0m \u001b[0mms\u001b[0m\u001b[0;34m.\u001b[0m\u001b[0mnn\u001b[0m\u001b[0;34m.\u001b[0m\u001b[0mCell\u001b[0m\u001b[0;34m)\u001b[0m\u001b[0;34m:\u001b[0m\u001b[0;34m\u001b[0m\u001b[0;34m\u001b[0m\u001b[0m\n",
      "\u001b[0;32m/opt/conda/envs/mindspore_gpu/lib/python3.7/site-packages/mindspore/ops/primitive.py\u001b[0m in \u001b[0;36m__infer__\u001b[0;34m(self, *args)\u001b[0m\n\u001b[1;32m    711\u001b[0m                                                               \" The input arguments must be all constant value.\")\n\u001b[1;32m    712\u001b[0m                     \u001b[0mvalue_args\u001b[0m\u001b[0;34m.\u001b[0m\u001b[0mappend\u001b[0m\u001b[0;34m(\u001b[0m\u001b[0mitem\u001b[0m\u001b[0;34m[\u001b[0m\u001b[0;34m\"value\"\u001b[0m\u001b[0;34m]\u001b[0m\u001b[0;34m)\u001b[0m\u001b[0;34m\u001b[0m\u001b[0;34m\u001b[0m\u001b[0m\n\u001b[0;32m--> 713\u001b[0;31m                 \u001b[0;32mreturn\u001b[0m \u001b[0;34m{\u001b[0m\u001b[0;34m'dtype'\u001b[0m\u001b[0;34m:\u001b[0m \u001b[0;32mNone\u001b[0m\u001b[0;34m,\u001b[0m \u001b[0;34m'shape'\u001b[0m\u001b[0;34m:\u001b[0m \u001b[0;32mNone\u001b[0m\u001b[0;34m,\u001b[0m \u001b[0;34m'value'\u001b[0m\u001b[0;34m:\u001b[0m \u001b[0mfn\u001b[0m\u001b[0;34m(\u001b[0m\u001b[0;34m*\u001b[0m\u001b[0mvalue_args\u001b[0m\u001b[0;34m)\u001b[0m\u001b[0;34m}\u001b[0m\u001b[0;34m\u001b[0m\u001b[0;34m\u001b[0m\u001b[0m\n\u001b[0m\u001b[1;32m    714\u001b[0m \u001b[0;34m\u001b[0m\u001b[0m\n\u001b[1;32m    715\u001b[0m             \u001b[0;32mdef\u001b[0m \u001b[0m__call__\u001b[0m\u001b[0;34m(\u001b[0m\u001b[0mself\u001b[0m\u001b[0;34m,\u001b[0m \u001b[0;34m*\u001b[0m\u001b[0margs\u001b[0m\u001b[0;34m,\u001b[0m \u001b[0;34m**\u001b[0m\u001b[0mkwargs\u001b[0m\u001b[0;34m)\u001b[0m\u001b[0;34m:\u001b[0m\u001b[0;34m\u001b[0m\u001b[0;34m\u001b[0m\u001b[0m\n",
      "\u001b[0;32m/opt/conda/envs/mindspore_gpu/lib/python3.7/site-packages/mindspore/nn/loss/loss.py\u001b[0m in \u001b[0;36m_check_cross_entropy_inputs\u001b[0;34m(logits_shape, label_shape, logits_rank, label_rank, logits_dtype, label_dtype, prim_name)\u001b[0m\n\u001b[1;32m   1944\u001b[0m                              f\"but get 'logits' shape: {logits_shape} and 'labels' shape: {label_shape}.\")\n\u001b[1;32m   1945\u001b[0m     \u001b[0;32melif\u001b[0m \u001b[0mlabel_rank\u001b[0m \u001b[0;34m==\u001b[0m \u001b[0mlogits_rank\u001b[0m \u001b[0;34m-\u001b[0m \u001b[0;36m1\u001b[0m\u001b[0;34m:\u001b[0m\u001b[0;34m\u001b[0m\u001b[0;34m\u001b[0m\u001b[0m\n\u001b[0;32m-> 1946\u001b[0;31m         \u001b[0mvalidator\u001b[0m\u001b[0;34m.\u001b[0m\u001b[0mcheck_type_name\u001b[0m\u001b[0;34m(\u001b[0m\u001b[0;34m'labels'\u001b[0m\u001b[0;34m,\u001b[0m \u001b[0mlabel_dtype\u001b[0m\u001b[0;34m,\u001b[0m \u001b[0;34m[\u001b[0m\u001b[0mmstype\u001b[0m\u001b[0;34m.\u001b[0m\u001b[0mint32\u001b[0m\u001b[0;34m]\u001b[0m\u001b[0;34m,\u001b[0m \u001b[0mprim_name\u001b[0m\u001b[0;34m)\u001b[0m\u001b[0;34m\u001b[0m\u001b[0;34m\u001b[0m\u001b[0m\n\u001b[0m\u001b[1;32m   1947\u001b[0m         \u001b[0mlogits_shape_new\u001b[0m \u001b[0;34m=\u001b[0m \u001b[0;34m(\u001b[0m\u001b[0mlogits_shape\u001b[0m\u001b[0;34m[\u001b[0m\u001b[0;36m0\u001b[0m\u001b[0;34m]\u001b[0m\u001b[0;34m,\u001b[0m \u001b[0;34m*\u001b[0m\u001b[0mlogits_shape\u001b[0m\u001b[0;34m[\u001b[0m\u001b[0;36m2\u001b[0m\u001b[0;34m:\u001b[0m\u001b[0;34m]\u001b[0m\u001b[0;34m)\u001b[0m\u001b[0;34m\u001b[0m\u001b[0;34m\u001b[0m\u001b[0m\n\u001b[1;32m   1948\u001b[0m         \u001b[0;32mif\u001b[0m \u001b[0mlogits_shape_new\u001b[0m \u001b[0;34m!=\u001b[0m \u001b[0mlabel_shape\u001b[0m\u001b[0;34m:\u001b[0m\u001b[0;34m\u001b[0m\u001b[0;34m\u001b[0m\u001b[0m\n",
      "\u001b[0;32m/opt/conda/envs/mindspore_gpu/lib/python3.7/site-packages/mindspore/_checkparam.py\u001b[0m in \u001b[0;36mcheck_type_name\u001b[0;34m(arg_name, arg_type, valid_types, prim_name)\u001b[0m\n\u001b[1;32m    672\u001b[0m             \u001b[0marg_type\u001b[0m \u001b[0;34m=\u001b[0m \u001b[0marg_type\u001b[0m\u001b[0;34m.\u001b[0m\u001b[0melement_type\u001b[0m\u001b[0;34m(\u001b[0m\u001b[0;34m)\u001b[0m\u001b[0;34m\u001b[0m\u001b[0;34m\u001b[0m\u001b[0m\n\u001b[1;32m    673\u001b[0m         \u001b[0;32mif\u001b[0m \u001b[0marg_type\u001b[0m \u001b[0;32mnot\u001b[0m \u001b[0;32min\u001b[0m \u001b[0mvalid_types\u001b[0m\u001b[0;34m:\u001b[0m\u001b[0;34m\u001b[0m\u001b[0;34m\u001b[0m\u001b[0m\n\u001b[0;32m--> 674\u001b[0;31m             \u001b[0mraise_error_msg\u001b[0m\u001b[0;34m(\u001b[0m\u001b[0;34m)\u001b[0m\u001b[0;34m\u001b[0m\u001b[0;34m\u001b[0m\u001b[0m\n\u001b[0m\u001b[1;32m    675\u001b[0m         \u001b[0;32mreturn\u001b[0m \u001b[0marg_type\u001b[0m\u001b[0;34m\u001b[0m\u001b[0;34m\u001b[0m\u001b[0m\n\u001b[1;32m    676\u001b[0m \u001b[0;34m\u001b[0m\u001b[0m\n",
      "\u001b[0;32m/opt/conda/envs/mindspore_gpu/lib/python3.7/site-packages/mindspore/_checkparam.py\u001b[0m in \u001b[0;36mraise_error_msg\u001b[0;34m()\u001b[0m\n\u001b[1;32m    665\u001b[0m             \u001b[0mnum_types\u001b[0m \u001b[0;34m=\u001b[0m \u001b[0mlen\u001b[0m\u001b[0;34m(\u001b[0m\u001b[0mvalid_types\u001b[0m\u001b[0;34m)\u001b[0m\u001b[0;34m\u001b[0m\u001b[0;34m\u001b[0m\u001b[0m\n\u001b[1;32m    666\u001b[0m             \u001b[0mmsg_prefix\u001b[0m \u001b[0;34m=\u001b[0m \u001b[0;34mf\"For '{prim_name}', the\"\u001b[0m \u001b[0;32mif\u001b[0m \u001b[0mprim_name\u001b[0m \u001b[0;32melse\u001b[0m \u001b[0;34m\"The\"\u001b[0m\u001b[0;34m\u001b[0m\u001b[0;34m\u001b[0m\u001b[0m\n\u001b[0;32m--> 667\u001b[0;31m             raise TypeError(f\"{msg_prefix} '{arg_name}' should be {'one of ' if num_types > 1 else ''}\"\n\u001b[0m\u001b[1;32m    668\u001b[0m                             \u001b[0;34mf\"{type_names if num_types > 1 else type_names[0]}, \"\u001b[0m\u001b[0;34m\u001b[0m\u001b[0;34m\u001b[0m\u001b[0m\n\u001b[1;32m    669\u001b[0m                             f\"but got '{arg_type.__name__ if hasattr(arg_type, '__name__') else repr(arg_type)}'.\")\n",
      "\u001b[0;31mTypeError\u001b[0m: For 'CrossEntropyLoss', the 'labels' should be Int32, but got 'mindspore.float32'."
     ]
    }
   ],
   "source": [
    "from mindnlp.modules import RNNEncoder\n",
    "from mindnlp.engine.metrics import Accuracy\n",
    "from mindnlp.engine.trainer import Trainer\n",
    "\n",
    "# lstm_layer = nn.LSTM(100, hidden_size, num_layers=num_layers, batch_first=True,\n",
    "#                      dropout=drop, bidirectional=bidirectional)\n",
    "# encoder = RNNEncoder(embedding, lstm_layer)\n",
    "# head = Head(hidden_size, output_size, drop)\n",
    "\n",
    "# net = Classification(encoder, head)\n",
    "net = Classification()\n",
    "loss = nn.CrossEntropyLoss()\n",
    "optimizer = nn.Adam(net.trainable_params(), learning_rate=lr)\n",
    "\n",
    "# define metrics\n",
    "metric = Accuracy()\n",
    "\n",
    "# define trainer\n",
    "trainer = Trainer(network=net, train_dataset = train_dataset, eval_dataset = test_dataset, metrics=metric,\n",
    "                  epochs=5, loss_fn=loss, optimizer=optimizer)\n",
    "trainer.run(tgt_columns=\"label\", jit=True)\n",
    "print(\"end train\")"
   ]
  },
  {
   "cell_type": "code",
   "execution_count": null,
   "metadata": {},
   "outputs": [
    {
     "name": "stdout",
     "output_type": "stream",
     "text": [
      "(3, 5, 16)\n",
      "(2, 3, 16)\n",
      "[[-0.14228317  0.30269402  0.12158372  0.04126829  0.41130123 -0.4313172\n",
      "  -0.18862338 -0.09080917  0.35060525  0.23949553 -0.02401329 -0.3763776\n",
      "   0.42173102 -0.41364804  0.09906068 -0.16490573]\n",
      " [-0.14228317  0.30269402  0.12158372  0.04126829  0.41130123 -0.4313172\n",
      "  -0.18862338 -0.09080917  0.35060525  0.23949553 -0.02401329 -0.3763776\n",
      "   0.42173102 -0.41364804  0.09906068 -0.16490573]\n",
      " [-0.14228317  0.30269402  0.12158372  0.04126829  0.41130123 -0.4313172\n",
      "  -0.18862338 -0.09080917  0.35060525  0.23949553 -0.02401329 -0.3763776\n",
      "   0.42173102 -0.41364804  0.09906068 -0.16490573]]\n",
      "[[-0.02160999  0.03143664 -0.0843491   0.06857267 -0.07436486 -0.12577607\n",
      "  -0.08058252  0.08969515  0.04423256  0.17154948  0.03809654  0.08853893\n",
      "   0.09167541  0.10662405  0.05174439  0.11218565]\n",
      " [-0.02160999  0.03143664 -0.0843491   0.06857267 -0.07436486 -0.12577607\n",
      "  -0.08058252  0.08969515  0.04423256  0.17154948  0.03809654  0.08853893\n",
      "   0.09167541  0.10662405  0.05174439  0.11218565]\n",
      " [-0.02160999  0.03143664 -0.0843491   0.06857267 -0.07436486 -0.12577607\n",
      "  -0.08058252  0.08969515  0.04423256  0.17154948  0.03809654  0.08853893\n",
      "   0.09167541  0.10662405  0.05174439  0.11218565]]\n"
     ]
    }
   ],
   "source": [
    "from mindspore import Tensor\n",
    "import numpy as np\n",
    "net = nn.LSTM(10, 16, 2, has_bias=True, batch_first=True, bidirectional=False)\n",
    "x = Tensor(np.ones([3, 5, 10]).astype(np.float32))\n",
    "output, (hn, cn) = net(x)\n",
    "print(output.shape)\n",
    "print(hn.shape)\n",
    "print(hn[0])\n",
    "print(hn[1])\n"
   ]
  }
 ],
 "metadata": {
  "kernelspec": {
   "display_name": "Python 3.7.5 ('mindspore_gpu')",
   "language": "python",
   "name": "python3"
  },
  "language_info": {
   "codemirror_mode": {
    "name": "ipython",
    "version": 3
   },
   "file_extension": ".py",
   "mimetype": "text/x-python",
   "name": "python",
   "nbconvert_exporter": "python",
   "pygments_lexer": "ipython3",
   "version": "3.7.5"
  },
  "orig_nbformat": 4,
  "vscode": {
   "interpreter": {
    "hash": "88945c05160fc4aa49701ecdecc59f11e0dfb59f137b2270bc666d6ef899be17"
   }
  }
 },
 "nbformat": 4,
 "nbformat_minor": 2
}
