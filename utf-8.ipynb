{
 "cells": [
  {
   "cell_type": "code",
   "execution_count": 6,
   "metadata": {},
   "outputs": [
    {
     "name": "stderr",
     "output_type": "stream",
     "text": [
      "alt.atheism: 100%|██████████| 1000/1000 [00:00<00:00, 1982.90it/s]\n",
      "comp.graphics: 100%|██████████| 1000/1000 [00:00<00:00, 1940.93it/s]\n",
      "comp.os.ms-windows.misc: 100%|██████████| 1000/1000 [00:00<00:00, 2005.58it/s]\n",
      "comp.sys.ibm.pc.hardware: 100%|██████████| 1000/1000 [00:00<00:00, 2071.07it/s]\n",
      "comp.sys.mac.hardware: 100%|██████████| 1000/1000 [00:00<00:00, 1978.71it/s]\n",
      "comp.windows.x: 100%|██████████| 1000/1000 [00:00<00:00, 2097.32it/s]\n",
      "misc.forsale: 100%|██████████| 1000/1000 [00:00<00:00, 1946.20it/s]\n",
      "rec.autos: 100%|██████████| 1000/1000 [00:00<00:00, 2130.40it/s]\n",
      "rec.motorcycles: 100%|██████████| 1000/1000 [00:00<00:00, 1914.70it/s]\n",
      "rec.sport.baseball: 100%|██████████| 1000/1000 [00:00<00:00, 2071.82it/s]\n",
      "rec.sport.hockey: 100%|██████████| 1000/1000 [00:00<00:00, 2054.50it/s]\n",
      "sci.crypt: 100%|██████████| 1000/1000 [00:00<00:00, 2186.91it/s]\n",
      "sci.electronics: 100%|██████████| 1000/1000 [00:00<00:00, 2192.69it/s]\n",
      "sci.med: 100%|██████████| 1000/1000 [00:00<00:00, 2118.17it/s]\n",
      "sci.space: 100%|██████████| 1000/1000 [00:00<00:00, 2017.27it/s]\n",
      "soc.religion.christian: 100%|██████████| 997/997 [00:00<00:00, 2094.73it/s]\n",
      "talk.politics.guns: 100%|██████████| 1000/1000 [00:00<00:00, 2123.55it/s]\n",
      "talk.politics.mideast: 100%|██████████| 1000/1000 [00:00<00:00, 2159.14it/s]\n",
      "talk.politics.misc: 100%|██████████| 1000/1000 [00:00<00:00, 1888.73it/s]\n",
      "talk.religion.misc: 100%|██████████| 1000/1000 [00:00<00:00, 2105.31it/s]\n"
     ]
    }
   ],
   "source": [
    "import os\n",
    "from tqdm import tqdm\n",
    "\n",
    "path = r\"G:\\_CQU\\3-1\\自然语言处理\\实验\\实验二\\NLP\\news20\\20_newsgroup\"\n",
    "utf_8_path = r\"G:\\_CQU\\3-1\\自然语言处理\\实验\\实验二\\NLP\\news20\\20_newsgroup_utf_8\"\n",
    "label_dict = {}\n",
    "label_count = 0\n",
    "\n",
    "labels = os.listdir(path)\n",
    "for label in labels:\n",
    "    label_dict[label] = label_count\n",
    "    label_count += 1\n",
    "    label_path = os.path.join(path, label)\n",
    "    with tqdm(total = len(os.listdir(label_path)), desc = label) as pbar:\n",
    "        for t in os.listdir(label_path):\n",
    "            pbar.update(1)\n",
    "            text_path = os.path.join(utf_8_path, label, t)\n",
    "            utf_8_text_path = os.path.join(label_path, t)\n",
    "            file = open(text_path, \"r\" ,encoding=\"latin-1\") # latin-1\n",
    "            file = file.read()\n",
    "            # file = file.encode('utf-8').decode('utf-8')\n",
    "            with open (utf_8_text_path,'w', encoding='utf-8') as f:\n",
    "                f.write(file)\n",
    "\n"
   ]
  }
 ],
 "metadata": {
  "kernelspec": {
   "display_name": "Python 3.7.5 ('1216')",
   "language": "python",
   "name": "python3"
  },
  "language_info": {
   "codemirror_mode": {
    "name": "ipython",
    "version": 3
   },
   "file_extension": ".py",
   "mimetype": "text/x-python",
   "name": "python",
   "nbconvert_exporter": "python",
   "pygments_lexer": "ipython3",
   "version": "3.7.5"
  },
  "orig_nbformat": 4,
  "vscode": {
   "interpreter": {
    "hash": "77f8c42b9048a804c9b54fe3fdcc803144c07769274c7f5b50f37195cc1e314b"
   }
  }
 },
 "nbformat": 4,
 "nbformat_minor": 2
}
